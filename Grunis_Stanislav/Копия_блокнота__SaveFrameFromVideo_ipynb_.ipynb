{
  "nbformat": 4,
  "nbformat_minor": 0,
  "metadata": {
    "colab": {
      "provenance": []
    },
    "kernelspec": {
      "name": "python3",
      "display_name": "Python 3"
    },
    "language_info": {
      "name": "python"
    }
  },
  "cells": [
    {
      "cell_type": "code",
      "execution_count": null,
      "metadata": {
        "id": "BYtCzRInF-KA"
      },
      "outputs": [],
      "source": [
        "from datetime import timedelta\n",
        "import cv2\n",
        "import numpy as np\n",
        "import os"
      ]
    },
    {
      "cell_type": "code",
      "source": [
        "from google.colab import drive\n",
        "drive.mount('/content/drive')"
      ],
      "metadata": {
        "colab": {
          "base_uri": "https://localhost:8080/"
        },
        "id": "J2Cal1tkKolq",
        "outputId": "cf672d2d-2447-473c-8dcf-467256987656"
      },
      "execution_count": null,
      "outputs": [
        {
          "output_type": "stream",
          "name": "stdout",
          "text": [
            "Drive already mounted at /content/drive; to attempt to forcibly remount, call drive.mount(\"/content/drive\", force_remount=True).\n"
          ]
        }
      ]
    },
    {
      "cell_type": "code",
      "source": [
        "# то есть, если видео длительностью 30 секунд, сохраняется 1 кадр в секунду = всего сохраняется 30 кадров\n",
        "SAVING_FRAMES_PER_SECOND = 5\n",
        "myDir = '/content/drive/MyDrive/gun'\n",
        "\n",
        "def format_timedelta(td):\n",
        "    \"\"\"Служебная функция для классного форматирования объектов timedelta (например, 00:00:20.05)\n",
        "    исключая микросекунды и сохраняя миллисекунды\"\"\"\n",
        "    result = str(td)\n",
        "    try:\n",
        "        result, ms = result.split(\".\")\n",
        "    except ValueError:\n",
        "        return result + \".00\".replace(\":\", \"-\")\n",
        "    ms = int(ms)\n",
        "    ms = round(ms / 1e4)\n",
        "    return f\"{result}.{ms:02}\".replace(\":\", \"-\")\n",
        "\n",
        "def get_saving_frames_durations(cap, saving_fps):\n",
        "    \"\"\"Функция, которая возвращает список длительностей, в которые следует сохранять кадры.\"\"\"\n",
        "    s = []\n",
        "    # получаем продолжительность клипа, разделив количество кадров на количество кадров в секунду\n",
        "    clip_duration = cap.get(cv2.CAP_PROP_FRAME_COUNT) / cap.get(cv2.CAP_PROP_FPS)\n",
        "    # используйте np.arange () для выполнения шагов с плавающей запятой\n",
        "    for i in np.arange(0, clip_duration, 1 / saving_fps):\n",
        "        s.append(i)\n",
        "    return s\n",
        "\n",
        "\n",
        "def main(video_file):\n",
        "    filename, file_extension = os.path.splitext(video_file)\n",
        "    if file_extension != '.png':\n",
        "      filename += \"-opencv\"\n",
        "      # создаем папку по названию видео файла\n",
        "      if not os.path.isdir(filename):\n",
        "          os.mkdir(filename)\n",
        "      # читать видео файл\n",
        "      cap = cv2.VideoCapture(video_file)\n",
        "      # получить FPS видео\n",
        "      fps = cap.get(cv2.CAP_PROP_FPS)\n",
        "      # если SAVING_FRAMES_PER_SECOND выше видео FPS, то установите его на FPS (как максимум)\n",
        "      saving_frames_per_second = min(fps, SAVING_FRAMES_PER_SECOND)\n",
        "      # получить список длительностей для сохранения\n",
        "      saving_frames_durations = get_saving_frames_durations(cap, saving_frames_per_second)\n",
        "      # запускаем цикл\n",
        "      count = 0\n",
        "      while True:\n",
        "          is_read, frame = cap.read()\n",
        "          if not is_read:\n",
        "              # выйти из цикла, если нет фреймов для чтения\n",
        "              break\n",
        "          # получаем продолжительность, разделив количество кадров на FPS\n",
        "          frame_duration = count / fps\n",
        "          try:\n",
        "              # получить самую раннюю продолжительность для сохранения\n",
        "              closest_duration = saving_frames_durations[0]\n",
        "          except IndexError:\n",
        "              # список пуст, все кадры длительности сохранены\n",
        "              break\n",
        "          if frame_duration >= closest_duration:\n",
        "              # если ближайшая длительность меньше или равна длительности кадра,\n",
        "              # затем сохраняем фрейм\n",
        "              frame_duration_formatted = format_timedelta(timedelta(seconds=frame_duration))\n",
        "              cv2.imwrite(os.path.join(filename, f\"frame{frame_duration_formatted}.png\"), frame)\n",
        "              # удалить точку продолжительности из списка, так как эта точка длительности уже сохранена\n",
        "              try:\n",
        "                  saving_frames_durations.pop(0)\n",
        "              except IndexError:\n",
        "                  pass\n",
        "          # увеличить количество кадров\n",
        "          count += 1\n",
        "\n",
        "\n",
        "\n",
        "\n",
        "# импортируем модуль os\n",
        "import os\n",
        "\n",
        "# выводим пути к папкам (dirpath) и наименования файлов (filenames) и после этого\n",
        "for dirpath, _, filenames in os.walk(myDir):\n",
        "\n",
        "  # во вложенном цикле проходимся по названиям файлов\n",
        "  for filename in filenames:\n",
        "\n",
        "    # и соединяем путь до папок и входящие в эти папки файлы\n",
        "    # с помощью метода path.join()\n",
        "\n",
        "        main(os.path.join(dirpath, filename))"
      ],
      "metadata": {
        "id": "B6u7o-AzGADf"
      },
      "execution_count": 5,
      "outputs": []
    }
  ]
}